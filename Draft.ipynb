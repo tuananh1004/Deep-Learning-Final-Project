{
 "cells": [
  {
   "cell_type": "markdown",
   "id": "379477d5",
   "metadata": {},
   "source": []
  },
  {
   "cell_type": "markdown",
   "id": "b0ca26ec",
   "metadata": {},
   "source": [
    "#click the bar, change from code to markdown to write note. In python, you need to find a library for stuff that you want to do first.\n",
    "\n",
    "Be careful with capital letters cause python is realy sensitive with it\n",
    "\n",
    "from IPython.display import Image <- import image\n",
    "\n",
    "YouTubeVideo(\"https://www.youtube.com/watch?v=rfscVS0vtbw&t=35s\") <- delete everything except the ID at the end of the link in order export the video \n",
    "\n",
    "click the cell and hit A key to add a cell above the selected cell\n",
    "\n",
    "click the cell and hit M key to change the cell from code to mark down\n",
    "\n"
   ]
  },
  {
   "cell_type": "markdown",
   "id": "fbf85469",
   "metadata": {},
   "source": [
    "##Intro to Python"
   ]
  },
  {
   "cell_type": "code",
   "execution_count": 3,
   "id": "607950a3",
   "metadata": {},
   "outputs": [],
   "source": [
    "from IPython.display import Image"
   ]
  },
  {
   "cell_type": "code",
   "execution_count": 14,
   "id": "2451439a",
   "metadata": {},
   "outputs": [
    {
     "data": {
      "text/html": [
       "<img src=\"http://byungwan.com/class/goodjob.jpg\" width=\"300\" height=\"50\"/>"
      ],
      "text/plain": [
       "<IPython.core.display.Image object>"
      ]
     },
     "execution_count": 14,
     "metadata": {},
     "output_type": "execute_result"
    }
   ],
   "source": [
    "Image(url = \"http://byungwan.com/class/goodjob.jpg\", width=300, height=50)"
   ]
  },
  {
   "cell_type": "code",
   "execution_count": 16,
   "id": "58671a88",
   "metadata": {},
   "outputs": [],
   "source": [
    "from IPython.display import YouTubeVideo"
   ]
  },
  {
   "cell_type": "code",
   "execution_count": 20,
   "id": "71233f3f",
   "metadata": {},
   "outputs": [
    {
     "data": {
      "text/html": [
       "\n",
       "        <iframe\n",
       "            width=\"300\"\n",
       "            height=\"200\"\n",
       "            src=\"https://www.youtube.com/embed/v=rfscVS0vtbw&t=35s\"\n",
       "            frameborder=\"0\"\n",
       "            allowfullscreen\n",
       "            \n",
       "        ></iframe>\n",
       "        "
      ],
      "text/plain": [
       "<IPython.lib.display.YouTubeVideo at 0x1ef696d66a0>"
      ]
     },
     "execution_count": 20,
     "metadata": {},
     "output_type": "execute_result"
    }
   ],
   "source": [
    "YouTubeVideo(\"v=rfscVS0vtbw&t=35s\", width= 300, height=200)"
   ]
  },
  {
   "cell_type": "markdown",
   "id": "5fade45c",
   "metadata": {},
   "source": [
    "##Operator"
   ]
  },
  {
   "cell_type": "code",
   "execution_count": 23,
   "id": "8919415d",
   "metadata": {},
   "outputs": [
    {
     "data": {
      "text/plain": [
       "3"
      ]
     },
     "execution_count": 23,
     "metadata": {},
     "output_type": "execute_result"
    }
   ],
   "source": [
    "1+2 "
   ]
  },
  {
   "cell_type": "code",
   "execution_count": 25,
   "id": "69f78ba1",
   "metadata": {},
   "outputs": [
    {
     "data": {
      "text/plain": [
       "21"
      ]
     },
     "execution_count": 25,
     "metadata": {},
     "output_type": "execute_result"
    }
   ],
   "source": [
    "3*7"
   ]
  },
  {
   "cell_type": "code",
   "execution_count": 26,
   "id": "c57a40b1",
   "metadata": {},
   "outputs": [],
   "source": [
    "a = 1 \n",
    "b = 2"
   ]
  },
  {
   "cell_type": "code",
   "execution_count": 28,
   "id": "9a56ce7b",
   "metadata": {},
   "outputs": [
    {
     "data": {
      "text/plain": [
       "3"
      ]
     },
     "execution_count": 28,
     "metadata": {},
     "output_type": "execute_result"
    }
   ],
   "source": [
    "a+b"
   ]
  },
  {
   "cell_type": "code",
   "execution_count": 34,
   "id": "67795b18",
   "metadata": {},
   "outputs": [],
   "source": [
    "c = \"Korea University\"\n",
    "d = \"Business School\""
   ]
  },
  {
   "cell_type": "code",
   "execution_count": 39,
   "id": "312de869",
   "metadata": {},
   "outputs": [
    {
     "data": {
      "text/plain": [
       "'Korea University Business School'"
      ]
     },
     "execution_count": 39,
     "metadata": {},
     "output_type": "execute_result"
    }
   ],
   "source": [
    "c + \" \" + d #add \" \" to have a space in the middle of two words"
   ]
  },
  {
   "cell_type": "markdown",
   "id": "69626e09",
   "metadata": {},
   "source": [
    "##3. Data Type"
   ]
  },
  {
   "cell_type": "code",
   "execution_count": 40,
   "id": "728f45af",
   "metadata": {},
   "outputs": [
    {
     "data": {
      "text/plain": [
       "1"
      ]
     },
     "execution_count": 40,
     "metadata": {},
     "output_type": "execute_result"
    }
   ],
   "source": [
    "a"
   ]
  },
  {
   "cell_type": "code",
   "execution_count": 41,
   "id": "59553861",
   "metadata": {},
   "outputs": [
    {
     "data": {
      "text/plain": [
       "int"
      ]
     },
     "execution_count": 41,
     "metadata": {},
     "output_type": "execute_result"
    }
   ],
   "source": [
    "type(a)                       #type to check what type of data it is"
   ]
  },
  {
   "cell_type": "code",
   "execution_count": 45,
   "id": "5b9dde0f",
   "metadata": {},
   "outputs": [],
   "source": [
    "e = \"1\"                       #str: string which is text in python"
   ]
  },
  {
   "cell_type": "code",
   "execution_count": 46,
   "id": "f62883f6",
   "metadata": {},
   "outputs": [
    {
     "data": {
      "text/plain": [
       "'1'"
      ]
     },
     "execution_count": 46,
     "metadata": {},
     "output_type": "execute_result"
    }
   ],
   "source": [
    "e"
   ]
  },
  {
   "cell_type": "code",
   "execution_count": 43,
   "id": "b9eb6cb8",
   "metadata": {},
   "outputs": [
    {
     "data": {
      "text/plain": [
       "str"
      ]
     },
     "execution_count": 43,
     "metadata": {},
     "output_type": "execute_result"
    }
   ],
   "source": [
    "type(e)"
   ]
  },
  {
   "cell_type": "code",
   "execution_count": 47,
   "id": "07a3438f",
   "metadata": {},
   "outputs": [],
   "source": [
    "f = 3/7"
   ]
  },
  {
   "cell_type": "code",
   "execution_count": 48,
   "id": "b07fe2b0",
   "metadata": {},
   "outputs": [
    {
     "data": {
      "text/plain": [
       "0.42857142857142855"
      ]
     },
     "execution_count": 48,
     "metadata": {},
     "output_type": "execute_result"
    }
   ],
   "source": [
    "f"
   ]
  },
  {
   "cell_type": "code",
   "execution_count": 49,
   "id": "52eaf69d",
   "metadata": {},
   "outputs": [
    {
     "data": {
      "text/plain": [
       "float"
      ]
     },
     "execution_count": 49,
     "metadata": {},
     "output_type": "execute_result"
    }
   ],
   "source": [
    "type(f)   #so vo han"
   ]
  },
  {
   "cell_type": "code",
   "execution_count": 50,
   "id": "1bc680b6",
   "metadata": {},
   "outputs": [
    {
     "data": {
      "text/plain": [
       "0"
      ]
     },
     "execution_count": 50,
     "metadata": {},
     "output_type": "execute_result"
    }
   ],
   "source": [
    "int(f)   #convert a floating number to integer"
   ]
  },
  {
   "cell_type": "code",
   "execution_count": 52,
   "id": "baaf981e",
   "metadata": {},
   "outputs": [
    {
     "data": {
      "text/plain": [
       "1"
      ]
     },
     "execution_count": 52,
     "metadata": {},
     "output_type": "execute_result"
    }
   ],
   "source": [
    "int (1.8)  #it just drops all the numbers after ,"
   ]
  },
  {
   "cell_type": "code",
   "execution_count": 53,
   "id": "7a626525",
   "metadata": {},
   "outputs": [
    {
     "data": {
      "text/plain": [
       "2"
      ]
     },
     "execution_count": 53,
     "metadata": {},
     "output_type": "execute_result"
    }
   ],
   "source": [
    "round(1.8)  # it rounds up the number"
   ]
  },
  {
   "cell_type": "code",
   "execution_count": 54,
   "id": "3fbb50b6",
   "metadata": {},
   "outputs": [
    {
     "data": {
      "text/plain": [
       "'0.42857142857142855'"
      ]
     },
     "execution_count": 54,
     "metadata": {},
     "output_type": "execute_result"
    }
   ],
   "source": [
    "str(f)"
   ]
  },
  {
   "cell_type": "code",
   "execution_count": 58,
   "id": "61409cdf",
   "metadata": {},
   "outputs": [
    {
     "data": {
      "text/plain": [
       "'0.428571428571428551'"
      ]
     },
     "execution_count": 58,
     "metadata": {},
     "output_type": "execute_result"
    }
   ],
   "source": [
    "str(f) + \"1\" #it is combining two strings not, not phep cong (addition) "
   ]
  },
  {
   "cell_type": "markdown",
   "id": "54e9c990",
   "metadata": {},
   "source": [
    "##4. Array (something similar to list in C++)"
   ]
  },
  {
   "cell_type": "code",
   "execution_count": 63,
   "id": "b7f5251d",
   "metadata": {},
   "outputs": [],
   "source": [
    "profs = [\"Kim\", \"Lee\", \"Han\", \"Park\"]"
   ]
  },
  {
   "cell_type": "code",
   "execution_count": 64,
   "id": "ea30dec1",
   "metadata": {},
   "outputs": [
    {
     "data": {
      "text/plain": [
       "'Lee'"
      ]
     },
     "execution_count": 64,
     "metadata": {},
     "output_type": "execute_result"
    }
   ],
   "source": [
    "profs[1]  #order of a arry in Python starts with 0, so be careful when you put number to call a value"
   ]
  },
  {
   "cell_type": "code",
   "execution_count": 65,
   "id": "7d52a590",
   "metadata": {},
   "outputs": [
    {
     "data": {
      "text/plain": [
       "['Kim', 'Lee']"
      ]
     },
     "execution_count": 65,
     "metadata": {},
     "output_type": "execute_result"
    }
   ],
   "source": [
    "profs[0:2]  #the ending number has to be +1 with the order of the one we want to call"
   ]
  },
  {
   "cell_type": "code",
   "execution_count": 66,
   "id": "72fd06a3",
   "metadata": {},
   "outputs": [
    {
     "data": {
      "text/plain": [
       "['Lee', 'Han']"
      ]
     },
     "execution_count": 66,
     "metadata": {},
     "output_type": "execute_result"
    }
   ],
   "source": [
    "profs[1:3]"
   ]
  },
  {
   "cell_type": "markdown",
   "id": "1d0a218c",
   "metadata": {},
   "source": [
    "##Logic"
   ]
  },
  {
   "cell_type": "code",
   "execution_count": 78,
   "id": "0dd6de88",
   "metadata": {},
   "outputs": [
    {
     "data": {
      "text/plain": [
       "True"
      ]
     },
     "execution_count": 78,
     "metadata": {},
     "output_type": "execute_result"
    }
   ],
   "source": [
    "1 == 1  # be careful with the equal sign"
   ]
  },
  {
   "cell_type": "code",
   "execution_count": 68,
   "id": "9ee1d6ae",
   "metadata": {},
   "outputs": [
    {
     "data": {
      "text/plain": [
       "False"
      ]
     },
     "execution_count": 68,
     "metadata": {},
     "output_type": "execute_result"
    }
   ],
   "source": [
    "1==\"1\""
   ]
  },
  {
   "cell_type": "code",
   "execution_count": 69,
   "id": "bd4d9fd2",
   "metadata": {},
   "outputs": [
    {
     "data": {
      "text/plain": [
       "False"
      ]
     },
     "execution_count": 69,
     "metadata": {},
     "output_type": "execute_result"
    }
   ],
   "source": [
    "1 != 1 #asking if 1 is equal to 1"
   ]
  },
  {
   "cell_type": "code",
   "execution_count": 70,
   "id": "75be43a4",
   "metadata": {},
   "outputs": [
    {
     "data": {
      "text/plain": [
       "True"
      ]
     },
     "execution_count": 70,
     "metadata": {},
     "output_type": "execute_result"
    }
   ],
   "source": [
    "1!= \"1\""
   ]
  },
  {
   "cell_type": "code",
   "execution_count": 71,
   "id": "d584ddd5",
   "metadata": {},
   "outputs": [],
   "source": [
    "age = 20 "
   ]
  },
  {
   "cell_type": "code",
   "execution_count": 75,
   "id": "ce8862c5",
   "metadata": {},
   "outputs": [
    {
     "name": "stdout",
     "output_type": "stream",
     "text": [
      "beer\n"
     ]
    }
   ],
   "source": [
    "if age > 18: \n",
    "    print(\"beer\")\n",
    "else: \n",
    "    print(\"coke\")"
   ]
  },
  {
   "cell_type": "code",
   "execution_count": 76,
   "id": "b83a500c",
   "metadata": {},
   "outputs": [
    {
     "data": {
      "text/plain": [
       "False"
      ]
     },
     "execution_count": 76,
     "metadata": {},
     "output_type": "execute_result"
    }
   ],
   "source": [
    "1 > 1"
   ]
  },
  {
   "cell_type": "code",
   "execution_count": 83,
   "id": "0719f334",
   "metadata": {},
   "outputs": [
    {
     "ename": "SyntaxError",
     "evalue": "invalid syntax (3510331640.py, line 3)",
     "output_type": "error",
     "traceback": [
      "\u001b[1;36m  Input \u001b[1;32mIn [83]\u001b[1;36m\u001b[0m\n\u001b[1;33m    elif:\u001b[0m\n\u001b[1;37m        ^\u001b[0m\n\u001b[1;31mSyntaxError\u001b[0m\u001b[1;31m:\u001b[0m invalid syntax\n"
     ]
    }
   ],
   "source": [
    "if age > 18: \n",
    "    print(\"beer\")\n",
    "elif:    \n",
    "    print (\"milk\")\n",
    "else: \n",
    "    print(\"coke\")"
   ]
  },
  {
   "cell_type": "markdown",
   "id": "4287e2ff",
   "metadata": {},
   "source": [
    "#data frame"
   ]
  },
  {
   "cell_type": "code",
   "execution_count": 81,
   "id": "9b3f9cf8",
   "metadata": {},
   "outputs": [],
   "source": [
    "from random import randint"
   ]
  },
  {
   "cell_type": "code",
   "execution_count": 82,
   "id": "f5e81f1b",
   "metadata": {},
   "outputs": [
    {
     "data": {
      "text/plain": [
       "98"
      ]
     },
     "execution_count": 82,
     "metadata": {},
     "output_type": "execute_result"
    }
   ],
   "source": [
    "randint(1,100)"
   ]
  },
  {
   "cell_type": "code",
   "execution_count": 84,
   "id": "c0c5f127",
   "metadata": {},
   "outputs": [],
   "source": [
    "import numpy as np # just to shorten the word when we use it"
   ]
  },
  {
   "cell_type": "code",
   "execution_count": 85,
   "id": "ded05741",
   "metadata": {},
   "outputs": [
    {
     "data": {
      "text/plain": [
       "array([ 0, 56, 93, 29])"
      ]
     },
     "execution_count": 85,
     "metadata": {},
     "output_type": "execute_result"
    }
   ],
   "source": [
    "np.random.randint(0,100, size = 4)"
   ]
  },
  {
   "cell_type": "code",
   "execution_count": 88,
   "id": "81ba7fad",
   "metadata": {},
   "outputs": [],
   "source": [
    "value = np.random.randint(0,100, size = (7,4))"
   ]
  },
  {
   "cell_type": "code",
   "execution_count": 89,
   "id": "21bb8cd2",
   "metadata": {},
   "outputs": [
    {
     "data": {
      "text/plain": [
       "array([[84, 86, 70, 76],\n",
       "       [66, 86, 90, 69],\n",
       "       [84, 26, 46, 71],\n",
       "       [70, 98, 89, 78],\n",
       "       [80, 98, 79, 14],\n",
       "       [18, 52, 23, 74],\n",
       "       [66, 82,  3, 65]])"
      ]
     },
     "execution_count": 89,
     "metadata": {},
     "output_type": "execute_result"
    }
   ],
   "source": [
    "value"
   ]
  },
  {
   "cell_type": "code",
   "execution_count": 91,
   "id": "435dd2aa",
   "metadata": {},
   "outputs": [],
   "source": [
    "import pandas as pd"
   ]
  },
  {
   "cell_type": "code",
   "execution_count": 93,
   "id": "31e77e42",
   "metadata": {},
   "outputs": [],
   "source": [
    "table = pd.DataFrame(value)  "
   ]
  },
  {
   "cell_type": "code",
   "execution_count": 94,
   "id": "9ad6f677",
   "metadata": {},
   "outputs": [
    {
     "data": {
      "text/html": [
       "<div>\n",
       "<style scoped>\n",
       "    .dataframe tbody tr th:only-of-type {\n",
       "        vertical-align: middle;\n",
       "    }\n",
       "\n",
       "    .dataframe tbody tr th {\n",
       "        vertical-align: top;\n",
       "    }\n",
       "\n",
       "    .dataframe thead th {\n",
       "        text-align: right;\n",
       "    }\n",
       "</style>\n",
       "<table border=\"1\" class=\"dataframe\">\n",
       "  <thead>\n",
       "    <tr style=\"text-align: right;\">\n",
       "      <th></th>\n",
       "      <th>0</th>\n",
       "      <th>1</th>\n",
       "      <th>2</th>\n",
       "      <th>3</th>\n",
       "    </tr>\n",
       "  </thead>\n",
       "  <tbody>\n",
       "    <tr>\n",
       "      <th>0</th>\n",
       "      <td>84</td>\n",
       "      <td>86</td>\n",
       "      <td>70</td>\n",
       "      <td>76</td>\n",
       "    </tr>\n",
       "    <tr>\n",
       "      <th>1</th>\n",
       "      <td>66</td>\n",
       "      <td>86</td>\n",
       "      <td>90</td>\n",
       "      <td>69</td>\n",
       "    </tr>\n",
       "    <tr>\n",
       "      <th>2</th>\n",
       "      <td>84</td>\n",
       "      <td>26</td>\n",
       "      <td>46</td>\n",
       "      <td>71</td>\n",
       "    </tr>\n",
       "    <tr>\n",
       "      <th>3</th>\n",
       "      <td>70</td>\n",
       "      <td>98</td>\n",
       "      <td>89</td>\n",
       "      <td>78</td>\n",
       "    </tr>\n",
       "    <tr>\n",
       "      <th>4</th>\n",
       "      <td>80</td>\n",
       "      <td>98</td>\n",
       "      <td>79</td>\n",
       "      <td>14</td>\n",
       "    </tr>\n",
       "    <tr>\n",
       "      <th>5</th>\n",
       "      <td>18</td>\n",
       "      <td>52</td>\n",
       "      <td>23</td>\n",
       "      <td>74</td>\n",
       "    </tr>\n",
       "    <tr>\n",
       "      <th>6</th>\n",
       "      <td>66</td>\n",
       "      <td>82</td>\n",
       "      <td>3</td>\n",
       "      <td>65</td>\n",
       "    </tr>\n",
       "  </tbody>\n",
       "</table>\n",
       "</div>"
      ],
      "text/plain": [
       "    0   1   2   3\n",
       "0  84  86  70  76\n",
       "1  66  86  90  69\n",
       "2  84  26  46  71\n",
       "3  70  98  89  78\n",
       "4  80  98  79  14\n",
       "5  18  52  23  74\n",
       "6  66  82   3  65"
      ]
     },
     "execution_count": 94,
     "metadata": {},
     "output_type": "execute_result"
    }
   ],
   "source": [
    "table"
   ]
  },
  {
   "cell_type": "code",
   "execution_count": 96,
   "id": "73235afe",
   "metadata": {},
   "outputs": [],
   "source": [
    "firms = [\"Firm1\", \"Firm2\", \"Firm3\", \"Firm4\"]"
   ]
  },
  {
   "cell_type": "code",
   "execution_count": 103,
   "id": "85788e92",
   "metadata": {},
   "outputs": [],
   "source": [
    "table.columns = firms"
   ]
  },
  {
   "cell_type": "code",
   "execution_count": 104,
   "id": "c36268d5",
   "metadata": {},
   "outputs": [
    {
     "data": {
      "text/html": [
       "<div>\n",
       "<style scoped>\n",
       "    .dataframe tbody tr th:only-of-type {\n",
       "        vertical-align: middle;\n",
       "    }\n",
       "\n",
       "    .dataframe tbody tr th {\n",
       "        vertical-align: top;\n",
       "    }\n",
       "\n",
       "    .dataframe thead th {\n",
       "        text-align: right;\n",
       "    }\n",
       "</style>\n",
       "<table border=\"1\" class=\"dataframe\">\n",
       "  <thead>\n",
       "    <tr style=\"text-align: right;\">\n",
       "      <th></th>\n",
       "      <th>Firm1</th>\n",
       "      <th>Firm2</th>\n",
       "      <th>Firm3</th>\n",
       "      <th>Firm4</th>\n",
       "    </tr>\n",
       "  </thead>\n",
       "  <tbody>\n",
       "    <tr>\n",
       "      <th>Mon</th>\n",
       "      <td>84</td>\n",
       "      <td>86</td>\n",
       "      <td>70</td>\n",
       "      <td>76</td>\n",
       "    </tr>\n",
       "    <tr>\n",
       "      <th>Tue</th>\n",
       "      <td>66</td>\n",
       "      <td>86</td>\n",
       "      <td>90</td>\n",
       "      <td>69</td>\n",
       "    </tr>\n",
       "    <tr>\n",
       "      <th>Wed</th>\n",
       "      <td>84</td>\n",
       "      <td>26</td>\n",
       "      <td>46</td>\n",
       "      <td>71</td>\n",
       "    </tr>\n",
       "    <tr>\n",
       "      <th>Thur</th>\n",
       "      <td>70</td>\n",
       "      <td>98</td>\n",
       "      <td>89</td>\n",
       "      <td>78</td>\n",
       "    </tr>\n",
       "    <tr>\n",
       "      <th>Fri</th>\n",
       "      <td>80</td>\n",
       "      <td>98</td>\n",
       "      <td>79</td>\n",
       "      <td>14</td>\n",
       "    </tr>\n",
       "    <tr>\n",
       "      <th>Sat</th>\n",
       "      <td>18</td>\n",
       "      <td>52</td>\n",
       "      <td>23</td>\n",
       "      <td>74</td>\n",
       "    </tr>\n",
       "    <tr>\n",
       "      <th>Sun</th>\n",
       "      <td>66</td>\n",
       "      <td>82</td>\n",
       "      <td>3</td>\n",
       "      <td>65</td>\n",
       "    </tr>\n",
       "  </tbody>\n",
       "</table>\n",
       "</div>"
      ],
      "text/plain": [
       "      Firm1  Firm2  Firm3  Firm4\n",
       "Mon      84     86     70     76\n",
       "Tue      66     86     90     69\n",
       "Wed      84     26     46     71\n",
       "Thur     70     98     89     78\n",
       "Fri      80     98     79     14\n",
       "Sat      18     52     23     74\n",
       "Sun      66     82      3     65"
      ]
     },
     "execution_count": 104,
     "metadata": {},
     "output_type": "execute_result"
    }
   ],
   "source": [
    "table"
   ]
  },
  {
   "cell_type": "code",
   "execution_count": 98,
   "id": "c384882e",
   "metadata": {},
   "outputs": [],
   "source": [
    "date = [\"Mon\", \"Tue\", \"Wed\", \"Thur\", \"Fri\",\"Sat\",\"Sun\"]"
   ]
  },
  {
   "cell_type": "code",
   "execution_count": 99,
   "id": "10767073",
   "metadata": {},
   "outputs": [],
   "source": [
    "table.index = date"
   ]
  },
  {
   "cell_type": "code",
   "execution_count": 100,
   "id": "11d31df2",
   "metadata": {},
   "outputs": [
    {
     "data": {
      "text/html": [
       "<div>\n",
       "<style scoped>\n",
       "    .dataframe tbody tr th:only-of-type {\n",
       "        vertical-align: middle;\n",
       "    }\n",
       "\n",
       "    .dataframe tbody tr th {\n",
       "        vertical-align: top;\n",
       "    }\n",
       "\n",
       "    .dataframe thead th {\n",
       "        text-align: right;\n",
       "    }\n",
       "</style>\n",
       "<table border=\"1\" class=\"dataframe\">\n",
       "  <thead>\n",
       "    <tr style=\"text-align: right;\">\n",
       "      <th></th>\n",
       "      <th>0</th>\n",
       "      <th>1</th>\n",
       "      <th>2</th>\n",
       "      <th>3</th>\n",
       "    </tr>\n",
       "  </thead>\n",
       "  <tbody>\n",
       "    <tr>\n",
       "      <th>Mon</th>\n",
       "      <td>84</td>\n",
       "      <td>86</td>\n",
       "      <td>70</td>\n",
       "      <td>76</td>\n",
       "    </tr>\n",
       "    <tr>\n",
       "      <th>Tue</th>\n",
       "      <td>66</td>\n",
       "      <td>86</td>\n",
       "      <td>90</td>\n",
       "      <td>69</td>\n",
       "    </tr>\n",
       "    <tr>\n",
       "      <th>Wed</th>\n",
       "      <td>84</td>\n",
       "      <td>26</td>\n",
       "      <td>46</td>\n",
       "      <td>71</td>\n",
       "    </tr>\n",
       "    <tr>\n",
       "      <th>Thur</th>\n",
       "      <td>70</td>\n",
       "      <td>98</td>\n",
       "      <td>89</td>\n",
       "      <td>78</td>\n",
       "    </tr>\n",
       "    <tr>\n",
       "      <th>Fri</th>\n",
       "      <td>80</td>\n",
       "      <td>98</td>\n",
       "      <td>79</td>\n",
       "      <td>14</td>\n",
       "    </tr>\n",
       "    <tr>\n",
       "      <th>Sat</th>\n",
       "      <td>18</td>\n",
       "      <td>52</td>\n",
       "      <td>23</td>\n",
       "      <td>74</td>\n",
       "    </tr>\n",
       "    <tr>\n",
       "      <th>Sun</th>\n",
       "      <td>66</td>\n",
       "      <td>82</td>\n",
       "      <td>3</td>\n",
       "      <td>65</td>\n",
       "    </tr>\n",
       "  </tbody>\n",
       "</table>\n",
       "</div>"
      ],
      "text/plain": [
       "       0   1   2   3\n",
       "Mon   84  86  70  76\n",
       "Tue   66  86  90  69\n",
       "Wed   84  26  46  71\n",
       "Thur  70  98  89  78\n",
       "Fri   80  98  79  14\n",
       "Sat   18  52  23  74\n",
       "Sun   66  82   3  65"
      ]
     },
     "execution_count": 100,
     "metadata": {},
     "output_type": "execute_result"
    }
   ],
   "source": [
    "table"
   ]
  },
  {
   "cell_type": "code",
   "execution_count": null,
   "id": "89864abd",
   "metadata": {},
   "outputs": [],
   "source": []
  }
 ],
 "metadata": {
  "kernelspec": {
   "display_name": "Python 3 (ipykernel)",
   "language": "python",
   "name": "python3"
  },
  "language_info": {
   "codemirror_mode": {
    "name": "ipython",
    "version": 3
   },
   "file_extension": ".py",
   "mimetype": "text/x-python",
   "name": "python",
   "nbconvert_exporter": "python",
   "pygments_lexer": "ipython3",
   "version": "3.9.12"
  }
 },
 "nbformat": 4,
 "nbformat_minor": 5
}
